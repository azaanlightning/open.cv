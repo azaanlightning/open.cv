{
 "cells": [
  {
   "cell_type": "code",
   "execution_count": 5,
   "id": "e470d88f",
   "metadata": {},
   "outputs": [],
   "source": [
    "import cv2"
   ]
  },
  {
   "cell_type": "code",
   "execution_count": null,
   "id": "d6ce2336",
   "metadata": {},
   "outputs": [],
   "source": [
    "#camera open\n",
    "cam = cv2.VideoCapture(0)  #0 when camera is inside the laptop\n",
    "                           #1 when you use any webcam connected with usb cable\n",
    "    \n",
    "while True:\n",
    "    ret, frame = cam.read()\n",
    "    cv2.imshow(\"Camera\", frame)\n",
    "    k = cv2.waitKey(1) & 0xFF\n",
    "    if k == ord('q'):\n",
    "        break\n",
    "        \n",
    "cam.release()\n",
    "cv2.destroyALLWindows()"
   ]
  },
  {
   "cell_type": "code",
   "execution_count": null,
   "id": "51c9a79c",
   "metadata": {},
   "outputs": [],
   "source": [
    "img = cv2.imread(\"OIP.jfif\")\n",
    "cv2.imshow(\"Output Image\", img)\n",
    "\n",
    "cv2.waitKey(0)\n",
    "cv2.destroyAllWindows()"
   ]
  },
  {
   "cell_type": "code",
   "execution_count": null,
   "id": "bd9ce9fe",
   "metadata": {},
   "outputs": [],
   "source": [
    "img = cv2.imread(\"OIP.jfif\")\n",
    "cv2.imshow(\"Output Image\", img)\n",
    "print(img.shape)\n",
    "\n",
    "cv2.waitKey(0)\n",
    "cv2.destroyAllWindows()"
   ]
  },
  {
   "cell_type": "code",
   "execution_count": null,
   "id": "e348967e",
   "metadata": {},
   "outputs": [],
   "source": [
    "img = cv2.imread(\"OIP.jfif\")\n",
    "cv2.imshow(\"Output Image\", img)\n",
    "print(img.shape)\n",
    "print(\"Height of image:\", img.shape[0])\n",
    "print(\"Width of image: \", img.shape[1])\n",
    "\n",
    "cv2.waitKey(0)\n",
    "cv2.destroyAllWindows()"
   ]
  },
  {
   "cell_type": "code",
   "execution_count": null,
   "id": "160441db",
   "metadata": {},
   "outputs": [],
   "source": [
    "#image rotation\n",
    "img = cv2.imread(\"OIP.jfif\")\n",
    "\n",
    "width, height = img.shape[:2]\n",
    "\n",
    "rotation = cv2.getRotationMatrix2D((width/2, height/2),70, 0.5)\n",
    "rotated_image = cv2.warpAffine(img, rotation, (width, height))\n",
    "\n",
    "cv2.imshow(\"Original Image\", img)\n",
    "cv2.imshow(\"Rotated Image\", rotated_image)\n",
    "cv2.waitKey(0)\n",
    "cv2.destroyAllWindows()"
   ]
  },
  {
   "cell_type": "code",
   "execution_count": null,
   "id": "c8498fb3",
   "metadata": {},
   "outputs": [],
   "source": []
  }
 ],
 "metadata": {
  "kernelspec": {
   "display_name": "Python 3 (ipykernel)",
   "language": "python",
   "name": "python3"
  },
  "language_info": {
   "codemirror_mode": {
    "name": "ipython",
    "version": 3
   },
   "file_extension": ".py",
   "mimetype": "text/x-python",
   "name": "python",
   "nbconvert_exporter": "python",
   "pygments_lexer": "ipython3",
   "version": "3.8.7"
  }
 },
 "nbformat": 4,
 "nbformat_minor": 5
}
